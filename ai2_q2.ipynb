{
 "cells": [
  {
   "cell_type": "markdown",
   "metadata": {},
   "source": [
    "## Question 2:\n",
    "\n",
    "Add pooling layers to the model, print model summary, and verify the number of parameters and accuracy of the model."
   ]
  },
  {
   "cell_type": "code",
   "execution_count": 1,
   "metadata": {},
   "outputs": [
    {
     "name": "stderr",
     "output_type": "stream",
     "text": [
      "WARNING: You are using pip version 21.0.1; however, version 21.3.1 is available.\n",
      "You should consider upgrading via the 'C:\\Users\\tarun\\AppData\\Local\\Microsoft\\WindowsApps\\PythonSoftwareFoundation.Python.3.9_qbz5n2kfra8p0\\python.exe -m pip install --upgrade pip' command.\n"
     ]
    },
    {
     "name": "stdout",
     "output_type": "stream",
     "text": [
      "Requirement already satisfied: np_utils in c:\\users\\tarun\\appdata\\local\\packages\\pythonsoftwarefoundation.python.3.9_qbz5n2kfra8p0\\localcache\\local-packages\\python39\\site-packages (0.5.12.1)\n",
      "Requirement already satisfied: future>=0.16 in c:\\users\\tarun\\appdata\\local\\packages\\pythonsoftwarefoundation.python.3.9_qbz5n2kfra8p0\\localcache\\local-packages\\python39\\site-packages (from np_utils) (0.18.2)\n",
      "Requirement already satisfied: numpy>=1.0 in c:\\users\\tarun\\appdata\\local\\packages\\pythonsoftwarefoundation.python.3.9_qbz5n2kfra8p0\\localcache\\local-packages\\python39\\site-packages (from np_utils) (1.19.5)\n"
     ]
    }
   ],
   "source": [
    "!pip install np_utils\n",
    "#importing the libraries\n",
    "from keras.models import Sequential\n",
    "from keras.layers import Dense, Conv2D, Flatten, MaxPool2D\n",
    "from keras.datasets import mnist\n",
    "from tensorflow.keras.utils import to_categorical\n",
    "import numpy as np\n",
    "import matplotlib.pyplot as plt"
   ]
  },
  {
   "cell_type": "code",
   "execution_count": 2,
   "metadata": {},
   "outputs": [
    {
     "name": "stdout",
     "output_type": "stream",
     "text": [
      "(60000, 28, 28)\n",
      "(10000, 28, 28)\n",
      "[0. 0. 0. 0. 0. 1. 0. 0. 0. 0.]\n"
     ]
    }
   ],
   "source": [
    "#Load the data and split it into train and test \n",
    "(X_train, y_train), (X_test, y_test) = mnist.load_data()\n",
    "\n",
    "#Get the image shape\n",
    "print(X_train.shape)\n",
    "print(X_test.shape)\n",
    "\n",
    "# Reshaping the data to fit the model\n",
    "X_train = X_train.reshape(60000, 28, 28, 1)\n",
    "X_test = X_test.reshape(10000, 28, 28, 1)\n",
    "\n",
    "# One-Hot Encoding:\n",
    "y_train_one_hot = to_categorical(y_train)\n",
    "y_test_one_hot = to_categorical(y_test)\n",
    "\n",
    "# Print the new label\n",
    "print(y_train_one_hot[0])"
   ]
  },
  {
   "cell_type": "code",
   "execution_count": 3,
   "metadata": {},
   "outputs": [
    {
     "name": "stdout",
     "output_type": "stream",
     "text": [
      "Model: \"sequential\"\n",
      "_________________________________________________________________\n",
      " Layer (type)                Output Shape              Param #   \n",
      "=================================================================\n",
      " conv2d (Conv2D)             (None, 26, 26, 32)        320       \n",
      "                                                                 \n",
      " max_pooling2d (MaxPooling2D  (None, 8, 8, 32)         0         \n",
      " )                                                               \n",
      "                                                                 \n",
      " conv2d_1 (Conv2D)           (None, 6, 6, 32)          9248      \n",
      "                                                                 \n",
      " max_pooling2d_1 (MaxPooling  (None, 2, 2, 32)         0         \n",
      " 2D)                                                             \n",
      "                                                                 \n",
      " dense (Dense)               (None, 2, 2, 32)          1056      \n",
      "                                                                 \n",
      " dense_1 (Dense)             (None, 2, 2, 32)          1056      \n",
      "                                                                 \n",
      " flatten (Flatten)           (None, 128)               0         \n",
      "                                                                 \n",
      " dense_2 (Dense)             (None, 10)                1290      \n",
      "                                                                 \n",
      "=================================================================\n",
      "Total params: 12,970\n",
      "Trainable params: 12,970\n",
      "Non-trainable params: 0\n",
      "_________________________________________________________________\n",
      "Epoch 1/30\n",
      "1875/1875 [==============================] - 22s 11ms/step - loss: 0.2643 - accuracy: 0.9249 - val_loss: 0.1009 - val_accuracy: 0.9692\n",
      "Epoch 2/30\n",
      "1875/1875 [==============================] - 19s 10ms/step - loss: 0.0955 - accuracy: 0.9696 - val_loss: 0.0807 - val_accuracy: 0.9737\n",
      "Epoch 3/30\n",
      "1875/1875 [==============================] - 19s 10ms/step - loss: 0.0726 - accuracy: 0.9769 - val_loss: 0.0730 - val_accuracy: 0.9772\n",
      "Epoch 4/30\n",
      "1875/1875 [==============================] - 18s 10ms/step - loss: 0.0629 - accuracy: 0.9798 - val_loss: 0.0706 - val_accuracy: 0.9788\n",
      "Epoch 5/30\n",
      "1875/1875 [==============================] - 18s 10ms/step - loss: 0.0587 - accuracy: 0.9813 - val_loss: 0.0607 - val_accuracy: 0.9818\n",
      "Epoch 6/30\n",
      "1875/1875 [==============================] - 19s 10ms/step - loss: 0.0535 - accuracy: 0.9824 - val_loss: 0.0630 - val_accuracy: 0.9799\n",
      "Epoch 7/30\n",
      "1875/1875 [==============================] - 20s 11ms/step - loss: 0.0496 - accuracy: 0.9840 - val_loss: 0.0660 - val_accuracy: 0.9816\n",
      "Epoch 8/30\n",
      "1875/1875 [==============================] - 20s 10ms/step - loss: 0.0458 - accuracy: 0.9844 - val_loss: 0.0558 - val_accuracy: 0.9823\n",
      "Epoch 9/30\n",
      "1875/1875 [==============================] - 19s 10ms/step - loss: 0.0473 - accuracy: 0.9844 - val_loss: 0.0586 - val_accuracy: 0.9814\n",
      "Epoch 10/30\n",
      "1875/1875 [==============================] - 19s 10ms/step - loss: 0.0411 - accuracy: 0.9863 - val_loss: 0.0558 - val_accuracy: 0.9829\n",
      "Epoch 11/30\n",
      "1875/1875 [==============================] - 19s 10ms/step - loss: 0.0420 - accuracy: 0.9856 - val_loss: 0.0527 - val_accuracy: 0.9832\n",
      "Epoch 12/30\n",
      "1875/1875 [==============================] - 19s 10ms/step - loss: 0.0411 - accuracy: 0.9865 - val_loss: 0.0541 - val_accuracy: 0.9829\n",
      "Epoch 13/30\n",
      "1875/1875 [==============================] - 20s 11ms/step - loss: 0.0395 - accuracy: 0.9871 - val_loss: 0.0612 - val_accuracy: 0.9833\n",
      "Epoch 14/30\n",
      "1875/1875 [==============================] - 21s 11ms/step - loss: 0.0373 - accuracy: 0.9874 - val_loss: 0.0582 - val_accuracy: 0.9827\n",
      "Epoch 15/30\n",
      "1875/1875 [==============================] - 19s 10ms/step - loss: 0.0351 - accuracy: 0.9886 - val_loss: 0.0547 - val_accuracy: 0.9818\n",
      "Epoch 16/30\n",
      "1875/1875 [==============================] - 19s 10ms/step - loss: 0.0356 - accuracy: 0.9878 - val_loss: 0.0528 - val_accuracy: 0.9825\n",
      "Epoch 17/30\n",
      "1875/1875 [==============================] - 19s 10ms/step - loss: 0.0371 - accuracy: 0.9877 - val_loss: 0.0588 - val_accuracy: 0.9830\n",
      "Epoch 18/30\n",
      "1875/1875 [==============================] - 20s 10ms/step - loss: 0.0380 - accuracy: 0.9873 - val_loss: 0.0596 - val_accuracy: 0.9825\n",
      "Epoch 19/30\n",
      "1875/1875 [==============================] - 19s 10ms/step - loss: 0.0343 - accuracy: 0.9886 - val_loss: 0.0544 - val_accuracy: 0.9826\n",
      "Epoch 20/30\n",
      "1875/1875 [==============================] - 19s 10ms/step - loss: 0.0316 - accuracy: 0.9895 - val_loss: 0.0506 - val_accuracy: 0.9842\n",
      "Epoch 21/30\n",
      "1875/1875 [==============================] - 18s 10ms/step - loss: 0.0320 - accuracy: 0.9888 - val_loss: 0.0588 - val_accuracy: 0.9823\n",
      "Epoch 22/30\n",
      "1875/1875 [==============================] - 18s 10ms/step - loss: 0.0304 - accuracy: 0.9897 - val_loss: 0.0551 - val_accuracy: 0.9827\n",
      "Epoch 23/30\n",
      "1875/1875 [==============================] - 19s 10ms/step - loss: 0.0320 - accuracy: 0.9893 - val_loss: 0.0573 - val_accuracy: 0.9830\n",
      "Epoch 24/30\n",
      "1875/1875 [==============================] - 18s 10ms/step - loss: 0.0280 - accuracy: 0.9905 - val_loss: 0.0569 - val_accuracy: 0.9829\n",
      "Epoch 25/30\n",
      "1875/1875 [==============================] - 18s 10ms/step - loss: 0.0282 - accuracy: 0.9905 - val_loss: 0.0637 - val_accuracy: 0.9808\n",
      "Epoch 26/30\n",
      "1875/1875 [==============================] - 19s 10ms/step - loss: 0.0307 - accuracy: 0.9892 - val_loss: 0.0582 - val_accuracy: 0.9814\n",
      "Epoch 27/30\n",
      "1875/1875 [==============================] - 19s 10ms/step - loss: 0.0305 - accuracy: 0.9898 - val_loss: 0.0616 - val_accuracy: 0.9816\n",
      "Epoch 28/30\n",
      "1875/1875 [==============================] - 18s 10ms/step - loss: 0.0280 - accuracy: 0.9903 - val_loss: 0.0580 - val_accuracy: 0.9816\n",
      "Epoch 29/30\n",
      "1875/1875 [==============================] - 19s 10ms/step - loss: 0.0307 - accuracy: 0.9897 - val_loss: 0.0659 - val_accuracy: 0.9814\n",
      "Epoch 30/30\n",
      "1875/1875 [==============================] - 19s 10ms/step - loss: 0.0274 - accuracy: 0.9909 - val_loss: 0.0623 - val_accuracy: 0.9824\n",
      "Loss:  0.062279265373945236\n",
      "Test Accuracy:  0.9824000000953674\n"
     ]
    }
   ],
   "source": [
    "# Build the CNN model\n",
    "model = Sequential()\n",
    "# Add model layers\n",
    "model.add(Conv2D(32, kernel_size=(3,3), activation = 'tanh', input_shape=(28,28,1)))\n",
    "model.add(MaxPool2D(pool_size=(3, 3), strides=None, padding='valid', data_format=None))\n",
    "model.add(Conv2D(32, kernel_size=3, activation='tanh'))\n",
    "model.add(MaxPool2D(pool_size=(3, 3), strides=None, padding='valid', data_format=None))\n",
    "model.add(Dense(32,activation='tanh'))\n",
    "model.add(Dense(32,activation='tanh'))\n",
    "model.add(Flatten())\n",
    "model.add(Dense(10,activation='softmax'))\n",
    "\n",
    "\n",
    "#Compile the model\n",
    "model.compile(optimizer='adam', loss='categorical_crossentropy', metrics=['accuracy'])\n",
    "model.summary()\n",
    "\n",
    "#Train the model\n",
    "hist = model.fit(X_train,y_train_one_hot, validation_data=(X_test,y_test_one_hot), epochs=30, batch_size=32)\n",
    "score = model.evaluate(X_test, y_test_one_hot,verbose = 0)\n",
    "print(\"Loss: \", score[0])\n",
    "print(\"Test Accuracy: \", score[1])"
   ]
  },
  {
   "cell_type": "code",
   "execution_count": null,
   "metadata": {},
   "outputs": [],
   "source": []
  }
 ],
 "metadata": {
  "colab": {
   "collapsed_sections": [],
   "name": "ai2-q1.ipynb",
   "provenance": []
  },
  "kernelspec": {
   "display_name": "Python 3 (ipykernel)",
   "language": "python",
   "name": "python3"
  },
  "language_info": {
   "codemirror_mode": {
    "name": "ipython",
    "version": 3
   },
   "file_extension": ".py",
   "mimetype": "text/x-python",
   "name": "python",
   "nbconvert_exporter": "python",
   "pygments_lexer": "ipython3",
   "version": "3.9.7"
  }
 },
 "nbformat": 4,
 "nbformat_minor": 1
}
