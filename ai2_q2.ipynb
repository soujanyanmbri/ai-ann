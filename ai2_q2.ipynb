{
 "cells": [
  {
   "cell_type": "markdown",
   "metadata": {},
   "source": [
    "## Question 2:\n",
    "\n",
    "Add pooling layers to the model, print model summary, and verify the number of parameters and accuracy of the model."
   ]
  },
  {
   "cell_type": "code",
   "execution_count": 25,
   "metadata": {},
   "outputs": [
    {
     "name": "stdout",
     "output_type": "stream",
     "text": [
      "Defaulting to user installation because normal site-packages is not writeable\n",
      "Requirement already satisfied: np_utils in /home/sou/.local/lib/python3.9/site-packages (0.5.12.1)\n",
      "Requirement already satisfied: future>=0.16 in /usr/lib/python3.9/site-packages (from np_utils) (0.18.2)\n",
      "Requirement already satisfied: numpy>=1.0 in /home/sou/.local/lib/python3.9/site-packages (from np_utils) (1.21.3)\n"
     ]
    }
   ],
   "source": [
    "!pip install np_utils\n",
    "#importing the libraries\n",
    "from keras.models import Sequential\n",
    "from keras.layers import Dense, Conv2D, Flatten, MaxPool2D\n",
    "from keras.datasets import mnist\n",
    "from tensorflow.keras.utils import to_categorical\n",
    "import numpy as np\n",
    "import matplotlib.pyplot as plt"
   ]
  },
  {
   "cell_type": "code",
   "execution_count": 26,
   "metadata": {},
   "outputs": [
    {
     "name": "stdout",
     "output_type": "stream",
     "text": [
      "(60000, 28, 28)\n",
      "(10000, 28, 28)\n",
      "[0. 0. 0. 0. 0. 1. 0. 0. 0. 0.]\n"
     ]
    }
   ],
   "source": [
    "#Load the data and split it into train and test \n",
    "(X_train, y_train), (X_test, y_test) = mnist.load_data()\n",
    "\n",
    "#Get the image shape\n",
    "print(X_train.shape)\n",
    "print(X_test.shape)\n",
    "\n",
    "# Reshaping the data to fit the model\n",
    "X_train = X_train.reshape(60000, 28, 28, 1)\n",
    "X_test = X_test.reshape(10000, 28, 28, 1)\n",
    "\n",
    "# One-Hot Encoding:\n",
    "y_train_one_hot = to_categorical(y_train)\n",
    "y_test_one_hot = to_categorical(y_test)\n",
    "\n",
    "# Print the new label\n",
    "print(y_train_one_hot[0])"
   ]
  },
  {
   "cell_type": "code",
   "execution_count": null,
   "metadata": {},
   "outputs": [
    {
     "name": "stdout",
     "output_type": "stream",
     "text": [
      "Model: \"sequential_8\"\n",
      "_________________________________________________________________\n",
      " Layer (type)                Output Shape              Param #   \n",
      "=================================================================\n",
      " conv2d_10 (Conv2D)          (None, 26, 26, 32)        320       \n",
      "                                                                 \n",
      " max_pooling2d_3 (MaxPooling  (None, 8, 8, 32)         0         \n",
      " 2D)                                                             \n",
      "                                                                 \n",
      " conv2d_11 (Conv2D)          (None, 6, 6, 32)          9248      \n",
      "                                                                 \n",
      " max_pooling2d_4 (MaxPooling  (None, 2, 2, 32)         0         \n",
      " 2D)                                                             \n",
      "                                                                 \n",
      " dense_24 (Dense)            (None, 2, 2, 32)          1056      \n",
      "                                                                 \n",
      " dense_25 (Dense)            (None, 2, 2, 32)          1056      \n",
      "                                                                 \n",
      " flatten_8 (Flatten)         (None, 128)               0         \n",
      "                                                                 \n",
      " dense_26 (Dense)            (None, 10)                1290      \n",
      "                                                                 \n",
      "=================================================================\n",
      "Total params: 12,970\n",
      "Trainable params: 12,970\n",
      "Non-trainable params: 0\n",
      "_________________________________________________________________\n",
      "Epoch 1/30\n",
      "1875/1875 [==============================] - 69s 36ms/step - loss: 0.2718 - accuracy: 0.9215 - val_loss: 0.0970 - val_accuracy: 0.9691\n",
      "Epoch 2/30\n",
      "1875/1875 [==============================] - 72s 38ms/step - loss: 0.0939 - accuracy: 0.9706 - val_loss: 0.0772 - val_accuracy: 0.9759\n",
      "Epoch 3/30\n",
      "1875/1875 [==============================] - 70s 38ms/step - loss: 0.0751 - accuracy: 0.9761 - val_loss: 0.0742 - val_accuracy: 0.9765\n",
      "Epoch 4/30\n",
      "1875/1875 [==============================] - 70s 37ms/step - loss: 0.0659 - accuracy: 0.9779 - val_loss: 0.0630 - val_accuracy: 0.9789\n",
      "Epoch 5/30\n",
      "1875/1875 [==============================] - 72s 38ms/step - loss: 0.0635 - accuracy: 0.9793 - val_loss: 0.0621 - val_accuracy: 0.9796\n",
      "Epoch 6/30\n",
      "1875/1875 [==============================] - 71s 38ms/step - loss: 0.0541 - accuracy: 0.9826 - val_loss: 0.0624 - val_accuracy: 0.9816\n",
      "Epoch 7/30\n",
      "1875/1875 [==============================] - 48s 25ms/step - loss: 0.0541 - accuracy: 0.9826 - val_loss: 0.0643 - val_accuracy: 0.9792\n",
      "Epoch 8/30\n",
      "1875/1875 [==============================] - 44s 23ms/step - loss: 0.0499 - accuracy: 0.9834 - val_loss: 0.0537 - val_accuracy: 0.9828\n",
      "Epoch 9/30\n",
      "1875/1875 [==============================] - 44s 23ms/step - loss: 0.0499 - accuracy: 0.9838 - val_loss: 0.0530 - val_accuracy: 0.9825\n",
      "Epoch 10/30\n",
      "1875/1875 [==============================] - 44s 24ms/step - loss: 0.0444 - accuracy: 0.9855 - val_loss: 0.0537 - val_accuracy: 0.9826\n",
      "Epoch 11/30\n",
      "1875/1875 [==============================] - 43s 23ms/step - loss: 0.0442 - accuracy: 0.9855 - val_loss: 0.0564 - val_accuracy: 0.9823\n",
      "Epoch 12/30\n",
      "1875/1875 [==============================] - 44s 23ms/step - loss: 0.0410 - accuracy: 0.9865 - val_loss: 0.0600 - val_accuracy: 0.9818\n",
      "Epoch 13/30\n",
      "1875/1875 [==============================] - 44s 23ms/step - loss: 0.0392 - accuracy: 0.9872 - val_loss: 0.0558 - val_accuracy: 0.9831\n",
      "Epoch 14/30\n",
      " 758/1875 [===========>..................] - ETA: 24s - loss: 0.0398 - accuracy: 0.9862"
     ]
    }
   ],
   "source": [
    "# Build the CNN model\n",
    "model = Sequential()\n",
    "# Add model layers\n",
    "model.add(Conv2D(32, kernel_size=(3,3), activation = 'tanh', input_shape=(28,28,1)))\n",
    "model.add(MaxPool2D(pool_size=(3, 3), strides=None, padding='valid', data_format=None))\n",
    "model.add(Conv2D(32, kernel_size=3, activation='tanh'))\n",
    "model.add(MaxPool2D(pool_size=(3, 3), strides=None, padding='valid', data_format=None))\n",
    "model.add(Dense(32,activation='tanh'))\n",
    "model.add(Dense(32,activation='tanh'))\n",
    "model.add(Flatten())\n",
    "model.add(Dense(10,activation='softmax'))\n",
    "\n",
    "\n",
    "#Compile the model\n",
    "model.compile(optimizer='adam', loss='categorical_crossentropy', metrics=['accuracy'])\n",
    "model.summary()\n",
    "\n",
    "#Train the model\n",
    "hist = model.fit(X_train,y_train_one_hot, validation_data=(X_test,y_test_one_hot), epochs=30, batch_size=32)\n",
    "score = model.evaluate(x_test, y_test_one_hot,verbose = 0)\n",
    "print(\"Loss: \", score[0])\n",
    "print(\"Test Accuracy: \", score[1])"
   ]
  },
  {
   "cell_type": "code",
   "execution_count": null,
   "metadata": {},
   "outputs": [],
   "source": []
  }
 ],
 "metadata": {
  "colab": {
   "collapsed_sections": [],
   "name": "ai2-q1.ipynb",
   "provenance": []
  },
  "kernelspec": {
   "display_name": "Python 3 (ipykernel)",
   "language": "python",
   "name": "python3"
  },
  "language_info": {
   "codemirror_mode": {
    "name": "ipython",
    "version": 3
   },
   "file_extension": ".py",
   "mimetype": "text/x-python",
   "name": "python",
   "nbconvert_exporter": "python",
   "pygments_lexer": "ipython3",
   "version": "3.9.7"
  }
 },
 "nbformat": 4,
 "nbformat_minor": 1
}
