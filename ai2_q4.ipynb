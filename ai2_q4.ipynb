{
 "cells": [
  {
   "cell_type": "markdown",
   "id": "7d6d394a",
   "metadata": {},
   "source": [
    "## Question 4:\n",
    "\n",
    "Build a standard Artificial Neural Network (without any convolution layers) for handwritten digit\n",
    "classification.\n",
    "1. Print the model summary\n",
    "2. Display the validation accuracy on each epoch"
   ]
  },
  {
   "cell_type": "code",
   "execution_count": 1,
   "id": "0e57be0b",
   "metadata": {},
   "outputs": [
    {
     "name": "stdout",
     "output_type": "stream",
     "text": [
      "Requirement already satisfied: np_utils in c:\\users\\tarun\\appdata\\local\\packages\\pythonsoftwarefoundation.python.3.9_qbz5n2kfra8p0\\localcache\\local-packages\\python39\\site-packages (0.5.12.1)\n",
      "Requirement already satisfied: future>=0.16 in c:\\users\\tarun\\appdata\\local\\packages\\pythonsoftwarefoundation.python.3.9_qbz5n2kfra8p0\\localcache\\local-packages\\python39\\site-packages (from np_utils) (0.18.2)\n",
      "Requirement already satisfied: numpy>=1.0 in c:\\users\\tarun\\appdata\\local\\packages\\pythonsoftwarefoundation.python.3.9_qbz5n2kfra8p0\\localcache\\local-packages\\python39\\site-packages (from np_utils) (1.19.5)\n"
     ]
    },
    {
     "name": "stderr",
     "output_type": "stream",
     "text": [
      "WARNING: You are using pip version 21.0.1; however, version 21.3.1 is available.\n",
      "You should consider upgrading via the 'C:\\Users\\tarun\\AppData\\Local\\Microsoft\\WindowsApps\\PythonSoftwareFoundation.Python.3.9_qbz5n2kfra8p0\\python.exe -m pip install --upgrade pip' command.\n"
     ]
    }
   ],
   "source": [
    "!pip install np_utils\n",
    "#importing the libraries\n",
    "from keras.models import Sequential\n",
    "from keras.layers import Dense, Conv2D, Flatten, MaxPool2D\n",
    "from keras.datasets import mnist\n",
    "from tensorflow.keras.utils import to_categorical\n",
    "import numpy as np\n",
    "import matplotlib.pyplot as plt"
   ]
  },
  {
   "cell_type": "code",
   "execution_count": 2,
   "id": "ecad8072",
   "metadata": {},
   "outputs": [
    {
     "name": "stdout",
     "output_type": "stream",
     "text": [
      "(60000, 28, 28)\n",
      "(10000, 28, 28)\n",
      "[0. 0. 0. 0. 0. 1. 0. 0. 0. 0.]\n"
     ]
    }
   ],
   "source": [
    "#Load the data and split it into train and test \n",
    "(X_train, y_train), (X_test, y_test) = mnist.load_data()\n",
    "\n",
    "#Get the image shape\n",
    "print(X_train.shape)\n",
    "print(X_test.shape)\n",
    "\n",
    "# Reshaping the data to fit the model\n",
    "X_train = X_train.reshape(60000, 28, 28, 1)\n",
    "X_test = X_test.reshape(10000, 28, 28, 1)\n",
    "\n",
    "# One-Hot Encoding:\n",
    "y_train_one_hot = to_categorical(y_train)\n",
    "y_test_one_hot = to_categorical(y_test)\n",
    "\n",
    "# Print the new label\n",
    "print(y_train_one_hot[0])"
   ]
  },
  {
   "cell_type": "code",
   "execution_count": 3,
   "id": "ee990e39",
   "metadata": {},
   "outputs": [
    {
     "name": "stdout",
     "output_type": "stream",
     "text": [
      "Model: \"sequential\"\n",
      "_________________________________________________________________\n",
      " Layer (type)                Output Shape              Param #   \n",
      "=================================================================\n",
      " dense (Dense)               (None, 28, 28, 32)        64        \n",
      "                                                                 \n",
      " dense_1 (Dense)             (None, 28, 28, 32)        1056      \n",
      "                                                                 \n",
      " flatten (Flatten)           (None, 25088)             0         \n",
      "                                                                 \n",
      " dense_2 (Dense)             (None, 32)                802848    \n",
      "                                                                 \n",
      " dense_3 (Dense)             (None, 32)                1056      \n",
      "                                                                 \n",
      " dense_4 (Dense)             (None, 10)                330       \n",
      "                                                                 \n",
      "=================================================================\n",
      "Total params: 805,354\n",
      "Trainable params: 805,354\n",
      "Non-trainable params: 0\n",
      "_________________________________________________________________\n",
      "Epoch 1/30\n",
      "1875/1875 [==============================] - 21s 11ms/step - loss: 0.5397 - accuracy: 0.8760 - val_loss: 0.2979 - val_accuracy: 0.9202\n",
      "Epoch 2/30\n",
      "1875/1875 [==============================] - 21s 11ms/step - loss: 0.2458 - accuracy: 0.9293 - val_loss: 0.2040 - val_accuracy: 0.9402\n",
      "Epoch 3/30\n",
      "1875/1875 [==============================] - 20s 11ms/step - loss: 0.2037 - accuracy: 0.9417 - val_loss: 0.2149 - val_accuracy: 0.9383\n",
      "Epoch 4/30\n",
      "1875/1875 [==============================] - 21s 11ms/step - loss: 0.1858 - accuracy: 0.9456 - val_loss: 0.1766 - val_accuracy: 0.9490\n",
      "Epoch 5/30\n",
      "1875/1875 [==============================] - 21s 11ms/step - loss: 0.1697 - accuracy: 0.9504 - val_loss: 0.1807 - val_accuracy: 0.9488\n",
      "Epoch 6/30\n",
      "1875/1875 [==============================] - 22s 12ms/step - loss: 0.1551 - accuracy: 0.9538 - val_loss: 0.1889 - val_accuracy: 0.9521\n",
      "Epoch 7/30\n",
      "1875/1875 [==============================] - 22s 12ms/step - loss: 0.1371 - accuracy: 0.9600 - val_loss: 0.1575 - val_accuracy: 0.9556\n",
      "Epoch 8/30\n",
      "1875/1875 [==============================] - 22s 12ms/step - loss: 0.1244 - accuracy: 0.9618 - val_loss: 0.1663 - val_accuracy: 0.9511\n",
      "Epoch 9/30\n",
      "1875/1875 [==============================] - 22s 12ms/step - loss: 0.1090 - accuracy: 0.9665 - val_loss: 0.1606 - val_accuracy: 0.9550\n",
      "Epoch 10/30\n",
      "1875/1875 [==============================] - 22s 12ms/step - loss: 0.0972 - accuracy: 0.9699 - val_loss: 0.1842 - val_accuracy: 0.9520\n",
      "Epoch 11/30\n",
      "1875/1875 [==============================] - 22s 12ms/step - loss: 0.0862 - accuracy: 0.9733 - val_loss: 0.1796 - val_accuracy: 0.9580\n",
      "Epoch 12/30\n",
      "1875/1875 [==============================] - 22s 12ms/step - loss: 0.0775 - accuracy: 0.9753 - val_loss: 0.1865 - val_accuracy: 0.9519\n",
      "Epoch 13/30\n",
      "1875/1875 [==============================] - 22s 12ms/step - loss: 0.0716 - accuracy: 0.9775 - val_loss: 0.1960 - val_accuracy: 0.9539\n",
      "Epoch 14/30\n",
      "1875/1875 [==============================] - 22s 12ms/step - loss: 0.0638 - accuracy: 0.9800 - val_loss: 0.1979 - val_accuracy: 0.9484\n",
      "Epoch 15/30\n",
      "1875/1875 [==============================] - 22s 12ms/step - loss: 0.0585 - accuracy: 0.9820 - val_loss: 0.2180 - val_accuracy: 0.9505\n",
      "Epoch 16/30\n",
      "1875/1875 [==============================] - 22s 12ms/step - loss: 0.0541 - accuracy: 0.9825 - val_loss: 0.2583 - val_accuracy: 0.9527\n",
      "Epoch 17/30\n",
      "1875/1875 [==============================] - 22s 12ms/step - loss: 0.0505 - accuracy: 0.9833 - val_loss: 0.2165 - val_accuracy: 0.9432\n",
      "Epoch 18/30\n",
      "1875/1875 [==============================] - 22s 12ms/step - loss: 0.0452 - accuracy: 0.9857 - val_loss: 0.2320 - val_accuracy: 0.9496\n",
      "Epoch 19/30\n",
      "1875/1875 [==============================] - 22s 12ms/step - loss: 0.0401 - accuracy: 0.9871 - val_loss: 0.2747 - val_accuracy: 0.9469\n",
      "Epoch 20/30\n",
      "1875/1875 [==============================] - 22s 12ms/step - loss: 0.0368 - accuracy: 0.9877 - val_loss: 0.2722 - val_accuracy: 0.9465\n",
      "Epoch 21/30\n",
      "1875/1875 [==============================] - 22s 12ms/step - loss: 0.0372 - accuracy: 0.9884 - val_loss: 0.2931 - val_accuracy: 0.9520\n",
      "Epoch 22/30\n",
      "1875/1875 [==============================] - 22s 12ms/step - loss: 0.0341 - accuracy: 0.9893 - val_loss: 0.3105 - val_accuracy: 0.9477\n",
      "Epoch 23/30\n",
      "1875/1875 [==============================] - 22s 12ms/step - loss: 0.0314 - accuracy: 0.9901 - val_loss: 0.2810 - val_accuracy: 0.9438\n",
      "Epoch 24/30\n",
      "1875/1875 [==============================] - 22s 12ms/step - loss: 0.0281 - accuracy: 0.9907 - val_loss: 0.3581 - val_accuracy: 0.9483\n",
      "Epoch 25/30\n",
      "1875/1875 [==============================] - 22s 12ms/step - loss: 0.0297 - accuracy: 0.9902 - val_loss: 0.3099 - val_accuracy: 0.9432\n",
      "Epoch 26/30\n",
      "1875/1875 [==============================] - 19s 10ms/step - loss: 0.0258 - accuracy: 0.9914 - val_loss: 0.2851 - val_accuracy: 0.9506\n",
      "Epoch 27/30\n",
      "1875/1875 [==============================] - 16s 9ms/step - loss: 0.0244 - accuracy: 0.9919 - val_loss: 0.2899 - val_accuracy: 0.9469\n",
      "Epoch 28/30\n",
      "1875/1875 [==============================] - 16s 9ms/step - loss: 0.0215 - accuracy: 0.9930 - val_loss: 0.3513 - val_accuracy: 0.9492\n",
      "Epoch 29/30\n",
      "1875/1875 [==============================] - 16s 9ms/step - loss: 0.0219 - accuracy: 0.9927 - val_loss: 0.3888 - val_accuracy: 0.9391\n",
      "Epoch 30/30\n",
      "1875/1875 [==============================] - 16s 9ms/step - loss: 0.0222 - accuracy: 0.9925 - val_loss: 0.3681 - val_accuracy: 0.9485\n",
      "Loss:  0.36809566617012024\n",
      "Test Accuracy:  0.9484999775886536\n"
     ]
    }
   ],
   "source": [
    "# Build the CNN model\n",
    "model = Sequential()\n",
    "# Add model layers\n",
    "\n",
    "model.add(Dense(32, input_shape=(28,28,1), activation='relu'))\n",
    "model.add(Dense(32,activation='relu'))\n",
    "model.add(Flatten())\n",
    "model.add(Dense(32,activation='relu'))\n",
    "model.add(Dense(32,activation='relu'))\n",
    "model.add(Dense(10,activation='softmax'))\n",
    "\n",
    "\n",
    "#Compile the model\n",
    "model.compile(optimizer='adam', loss='categorical_crossentropy', metrics=['accuracy'])\n",
    "model.summary()\n",
    "\n",
    "#Train the model\n",
    "hist = model.fit(X_train,y_train_one_hot, validation_data=(X_test,y_test_one_hot), epochs=30, batch_size=32)\n",
    "score = model.evaluate(X_test, y_test_one_hot,verbose = 0)\n",
    "print(\"Loss: \", score[0])\n",
    "print(\"Test Accuracy: \", score[1])"
   ]
  },
  {
   "cell_type": "code",
   "execution_count": null,
   "id": "4c1154b8",
   "metadata": {},
   "outputs": [],
   "source": []
  }
 ],
 "metadata": {
  "kernelspec": {
   "display_name": "Python 3 (ipykernel)",
   "language": "python",
   "name": "python3"
  },
  "language_info": {
   "codemirror_mode": {
    "name": "ipython",
    "version": 3
   },
   "file_extension": ".py",
   "mimetype": "text/x-python",
   "name": "python",
   "nbconvert_exporter": "python",
   "pygments_lexer": "ipython3",
   "version": "3.9.7"
  }
 },
 "nbformat": 4,
 "nbformat_minor": 5
}
