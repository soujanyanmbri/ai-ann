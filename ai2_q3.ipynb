{
 "cells": [
  {
   "cell_type": "markdown",
   "id": "b2cc54be",
   "metadata": {},
   "source": [
    "## Question 3:\n",
    "\n",
    " Use ReLU instead of tanh, recalculate the accuracy, and write the observations"
   ]
  },
  {
   "cell_type": "code",
   "execution_count": 1,
   "id": "3abf3b7f",
   "metadata": {},
   "outputs": [],
   "source": [
    "#importing the libraries\n",
    "from keras.models import Sequential\n",
    "from keras.layers import Dense, Conv2D, Flatten, MaxPool2D\n",
    "from keras.datasets import mnist\n",
    "from tensorflow.keras.utils import to_categorical\n",
    "import numpy as np\n",
    "import matplotlib.pyplot as plt"
   ]
  },
  {
   "cell_type": "code",
   "execution_count": 2,
   "id": "c38ef363",
   "metadata": {},
   "outputs": [
    {
     "name": "stdout",
     "output_type": "stream",
     "text": [
      "(60000, 28, 28)\n",
      "(10000, 28, 28)\n",
      "[0. 0. 0. 0. 0. 1. 0. 0. 0. 0.]\n"
     ]
    }
   ],
   "source": [
    "#Load the data and split it into train and test \n",
    "(X_train, y_train), (X_test, y_test) = mnist.load_data()\n",
    "\n",
    "#Get the image shape\n",
    "print(X_train.shape)\n",
    "print(X_test.shape)\n",
    "\n",
    "# Reshaping the data to fit the model\n",
    "X_train = X_train.reshape(60000, 28, 28, 1)\n",
    "X_test = X_test.reshape(10000, 28, 28, 1)\n",
    "\n",
    "# One-Hot Encoding:\n",
    "y_train_one_hot = to_categorical(y_train)\n",
    "y_test_one_hot = to_categorical(y_test)\n",
    "\n",
    "# Print the new label\n",
    "print(y_train_one_hot[0])"
   ]
  },
  {
   "cell_type": "code",
   "execution_count": 3,
   "id": "329b094f",
   "metadata": {},
   "outputs": [
    {
     "name": "stdout",
     "output_type": "stream",
     "text": [
      "Model: \"sequential\"\n",
      "_________________________________________________________________\n",
      " Layer (type)                Output Shape              Param #   \n",
      "=================================================================\n",
      " conv2d (Conv2D)             (None, 26, 26, 32)        320       \n",
      "                                                                 \n",
      " max_pooling2d (MaxPooling2D  (None, 8, 8, 32)         0         \n",
      " )                                                               \n",
      "                                                                 \n",
      " conv2d_1 (Conv2D)           (None, 6, 6, 32)          9248      \n",
      "                                                                 \n",
      " dense (Dense)               (None, 6, 6, 32)          1056      \n",
      "                                                                 \n",
      " dense_1 (Dense)             (None, 6, 6, 32)          1056      \n",
      "                                                                 \n",
      " flatten (Flatten)           (None, 1152)              0         \n",
      "                                                                 \n",
      " dense_2 (Dense)             (None, 10)                11530     \n",
      "                                                                 \n",
      "=================================================================\n",
      "Total params: 23,210\n",
      "Trainable params: 23,210\n",
      "Non-trainable params: 0\n",
      "_________________________________________________________________\n",
      "Epoch 1/30\n",
      "1875/1875 [==============================] - 15s 8ms/step - loss: 0.2233 - accuracy: 0.9411 - val_loss: 0.0929 - val_accuracy: 0.9728\n",
      "Epoch 2/30\n",
      "1875/1875 [==============================] - 17s 9ms/step - loss: 0.0706 - accuracy: 0.9782 - val_loss: 0.0505 - val_accuracy: 0.9839\n",
      "Epoch 3/30\n",
      "1875/1875 [==============================] - 18s 9ms/step - loss: 0.0567 - accuracy: 0.9822 - val_loss: 0.0552 - val_accuracy: 0.9821\n",
      "Epoch 4/30\n",
      "1875/1875 [==============================] - 18s 9ms/step - loss: 0.0478 - accuracy: 0.9846 - val_loss: 0.0531 - val_accuracy: 0.9823\n",
      "Epoch 5/30\n",
      "1875/1875 [==============================] - 18s 10ms/step - loss: 0.0429 - accuracy: 0.9864 - val_loss: 0.0493 - val_accuracy: 0.9864\n",
      "Epoch 6/30\n",
      "1875/1875 [==============================] - 17s 9ms/step - loss: 0.0375 - accuracy: 0.9886 - val_loss: 0.0540 - val_accuracy: 0.9836\n",
      "Epoch 7/30\n",
      "1875/1875 [==============================] - 19s 10ms/step - loss: 0.0334 - accuracy: 0.9894 - val_loss: 0.0563 - val_accuracy: 0.9842\n",
      "Epoch 8/30\n",
      "1875/1875 [==============================] - 19s 10ms/step - loss: 0.0306 - accuracy: 0.9900 - val_loss: 0.0586 - val_accuracy: 0.9836\n",
      "Epoch 9/30\n",
      "1875/1875 [==============================] - 19s 10ms/step - loss: 0.0280 - accuracy: 0.9909 - val_loss: 0.0520 - val_accuracy: 0.9852\n",
      "Epoch 10/30\n",
      "1875/1875 [==============================] - 19s 10ms/step - loss: 0.0253 - accuracy: 0.9918 - val_loss: 0.0619 - val_accuracy: 0.9852\n",
      "Epoch 11/30\n",
      "1875/1875 [==============================] - 19s 10ms/step - loss: 0.0248 - accuracy: 0.9921 - val_loss: 0.0484 - val_accuracy: 0.9883\n",
      "Epoch 12/30\n",
      "1875/1875 [==============================] - 20s 10ms/step - loss: 0.0239 - accuracy: 0.9926 - val_loss: 0.0536 - val_accuracy: 0.9855\n",
      "Epoch 13/30\n",
      "1875/1875 [==============================] - 19s 10ms/step - loss: 0.0216 - accuracy: 0.9931 - val_loss: 0.0638 - val_accuracy: 0.9857\n",
      "Epoch 14/30\n",
      "1875/1875 [==============================] - 19s 10ms/step - loss: 0.0223 - accuracy: 0.9930 - val_loss: 0.0657 - val_accuracy: 0.9833\n",
      "Epoch 15/30\n",
      "1875/1875 [==============================] - 19s 10ms/step - loss: 0.0197 - accuracy: 0.9937 - val_loss: 0.0577 - val_accuracy: 0.9861\n",
      "Epoch 16/30\n",
      "1875/1875 [==============================] - 19s 10ms/step - loss: 0.0217 - accuracy: 0.9933 - val_loss: 0.0626 - val_accuracy: 0.9865\n",
      "Epoch 17/30\n",
      "1875/1875 [==============================] - 19s 10ms/step - loss: 0.0202 - accuracy: 0.9937 - val_loss: 0.0725 - val_accuracy: 0.9843\n",
      "Epoch 18/30\n",
      "1875/1875 [==============================] - 19s 10ms/step - loss: 0.0192 - accuracy: 0.9942 - val_loss: 0.0677 - val_accuracy: 0.9846\n",
      "Epoch 19/30\n",
      "1875/1875 [==============================] - 19s 10ms/step - loss: 0.0196 - accuracy: 0.9945 - val_loss: 0.0674 - val_accuracy: 0.9863\n",
      "Epoch 20/30\n",
      "1875/1875 [==============================] - 20s 10ms/step - loss: 0.0179 - accuracy: 0.9945 - val_loss: 0.0686 - val_accuracy: 0.9855\n",
      "Epoch 21/30\n",
      "1875/1875 [==============================] - 19s 10ms/step - loss: 0.0176 - accuracy: 0.9948 - val_loss: 0.0667 - val_accuracy: 0.9835\n",
      "Epoch 22/30\n",
      "1875/1875 [==============================] - 19s 10ms/step - loss: 0.0184 - accuracy: 0.9944 - val_loss: 0.0661 - val_accuracy: 0.9877\n",
      "Epoch 23/30\n",
      "1875/1875 [==============================] - 19s 10ms/step - loss: 0.0188 - accuracy: 0.9942 - val_loss: 0.0883 - val_accuracy: 0.9842\n",
      "Epoch 24/30\n",
      "1875/1875 [==============================] - 19s 10ms/step - loss: 0.0165 - accuracy: 0.9953 - val_loss: 0.0771 - val_accuracy: 0.9837\n",
      "Epoch 25/30\n",
      "1875/1875 [==============================] - 18s 10ms/step - loss: 0.0247 - accuracy: 0.9932 - val_loss: 0.0857 - val_accuracy: 0.9830\n",
      "Epoch 26/30\n",
      "1875/1875 [==============================] - 19s 10ms/step - loss: 0.0145 - accuracy: 0.9955 - val_loss: 0.0850 - val_accuracy: 0.9855\n",
      "Epoch 27/30\n",
      "1875/1875 [==============================] - 19s 10ms/step - loss: 0.0168 - accuracy: 0.9949 - val_loss: 0.0842 - val_accuracy: 0.9846\n",
      "Epoch 28/30\n",
      "1875/1875 [==============================] - 19s 10ms/step - loss: 0.0183 - accuracy: 0.9948 - val_loss: 0.0856 - val_accuracy: 0.9872\n",
      "Epoch 29/30\n",
      "1875/1875 [==============================] - 19s 10ms/step - loss: 0.0181 - accuracy: 0.9949 - val_loss: 0.0976 - val_accuracy: 0.9856\n",
      "Epoch 30/30\n",
      "1875/1875 [==============================] - 19s 10ms/step - loss: 0.0192 - accuracy: 0.9947 - val_loss: 0.1019 - val_accuracy: 0.9836\n",
      "Loss:  0.10187453776597977\n",
      "Test Accuracy:  0.9836000204086304\n"
     ]
    }
   ],
   "source": [
    "# Build the CNN model\n",
    "model = Sequential()\n",
    "# Add model layers\n",
    "model.add(Conv2D(32, kernel_size=(3,3), activation = 'relu', input_shape=(28,28,1)))\n",
    "model.add(MaxPool2D(pool_size=(3, 3), strides=None, padding='valid', data_format=None))\n",
    "model.add(Conv2D(32, kernel_size=3, activation='relu'))\n",
    "model.add(Dense(32,activation='relu'))\n",
    "model.add(Dense(32,activation='relu'))\n",
    "model.add(Flatten())\n",
    "model.add(Dense(10,activation='softmax'))\n",
    "\n",
    "\n",
    "#Compile the model\n",
    "model.compile(optimizer='adam', loss='categorical_crossentropy', metrics=['accuracy'])\n",
    "model.summary()\n",
    "\n",
    "#Train the model\n",
    "hist = model.fit(X_train,y_train_one_hot, validation_data=(X_test,y_test_one_hot), epochs=30, batch_size=32)\n",
    "score = model.evaluate(X_test, y_test_one_hot,verbose = 0)\n",
    "print(\"Loss: \", score[0])\n",
    "print(\"Test Accuracy: \", score[1])"
   ]
  },
  {
   "cell_type": "code",
   "execution_count": null,
   "id": "cae72603",
   "metadata": {},
   "outputs": [],
   "source": []
  }
 ],
 "metadata": {
  "kernelspec": {
   "display_name": "Python 3 (ipykernel)",
   "language": "python",
   "name": "python3"
  },
  "language_info": {
   "codemirror_mode": {
    "name": "ipython",
    "version": 3
   },
   "file_extension": ".py",
   "mimetype": "text/x-python",
   "name": "python",
   "nbconvert_exporter": "python",
   "pygments_lexer": "ipython3",
   "version": "3.9.7"
  }
 },
 "nbformat": 4,
 "nbformat_minor": 5
}
