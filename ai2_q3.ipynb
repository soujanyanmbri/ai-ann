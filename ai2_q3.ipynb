{
 "cells": [
  {
   "cell_type": "markdown",
   "id": "b2cc54be",
   "metadata": {},
   "source": [
    "## Question 3:\n",
    "\n",
    " Use ReLU instead of tanh, recalculate the accuracy, and write the observations"
   ]
  },
  {
   "cell_type": "code",
   "execution_count": 1,
   "id": "3abf3b7f",
   "metadata": {},
   "outputs": [
    {
     "name": "stderr",
     "output_type": "stream",
     "text": [
      "2021-11-09 12:06:03.413114: W tensorflow/stream_executor/platform/default/dso_loader.cc:64] Could not load dynamic library 'libcudart.so.11.0'; dlerror: libcudart.so.11.0: cannot open shared object file: No such file or directory\n",
      "2021-11-09 12:06:03.413208: I tensorflow/stream_executor/cuda/cudart_stub.cc:29] Ignore above cudart dlerror if you do not have a GPU set up on your machine.\n"
     ]
    }
   ],
   "source": [
    "#importing the libraries\n",
    "from keras.models import Sequential\n",
    "from keras.layers import Dense, Conv2D, Flatten, MaxPool2D\n",
    "from keras.datasets import mnist\n",
    "from tensorflow.keras.utils import to_categorical\n",
    "import numpy as np\n",
    "import matplotlib.pyplot as plt"
   ]
  },
  {
   "cell_type": "code",
   "execution_count": 2,
   "id": "c38ef363",
   "metadata": {},
   "outputs": [
    {
     "name": "stdout",
     "output_type": "stream",
     "text": [
      "(60000, 28, 28)\n",
      "(10000, 28, 28)\n",
      "[0. 0. 0. 0. 0. 1. 0. 0. 0. 0.]\n"
     ]
    }
   ],
   "source": [
    "#Load the data and split it into train and test \n",
    "(X_train, y_train), (X_test, y_test) = mnist.load_data()\n",
    "\n",
    "#Get the image shape\n",
    "print(X_train.shape)\n",
    "print(X_test.shape)\n",
    "\n",
    "# Reshaping the data to fit the model\n",
    "X_train = X_train.reshape(60000, 28, 28, 1)\n",
    "X_test = X_test.reshape(10000, 28, 28, 1)\n",
    "\n",
    "# One-Hot Encoding:\n",
    "y_train_one_hot = to_categorical(y_train)\n",
    "y_test_one_hot = to_categorical(y_test)\n",
    "\n",
    "# Print the new label\n",
    "print(y_train_one_hot[0])"
   ]
  },
  {
   "cell_type": "code",
   "execution_count": null,
   "id": "329b094f",
   "metadata": {},
   "outputs": [
    {
     "name": "stderr",
     "output_type": "stream",
     "text": [
      "2021-11-09 12:06:10.458407: W tensorflow/stream_executor/platform/default/dso_loader.cc:64] Could not load dynamic library 'libcuda.so.1'; dlerror: libcuda.so.1: cannot open shared object file: No such file or directory\n",
      "2021-11-09 12:06:10.458498: W tensorflow/stream_executor/cuda/cuda_driver.cc:269] failed call to cuInit: UNKNOWN ERROR (303)\n",
      "2021-11-09 12:06:10.458555: I tensorflow/stream_executor/cuda/cuda_diagnostics.cc:156] kernel driver does not appear to be running on this host (sou-81ca): /proc/driver/nvidia/version does not exist\n",
      "2021-11-09 12:06:10.459092: I tensorflow/core/platform/cpu_feature_guard.cc:151] This TensorFlow binary is optimized with oneAPI Deep Neural Network Library (oneDNN) to use the following CPU instructions in performance-critical operations:  AVX2 FMA\n",
      "To enable them in other operations, rebuild TensorFlow with the appropriate compiler flags.\n"
     ]
    },
    {
     "name": "stdout",
     "output_type": "stream",
     "text": [
      "Model: \"sequential\"\n",
      "_________________________________________________________________\n",
      " Layer (type)                Output Shape              Param #   \n",
      "=================================================================\n",
      " conv2d (Conv2D)             (None, 26, 26, 32)        320       \n",
      "                                                                 \n",
      " max_pooling2d (MaxPooling2D  (None, 8, 8, 32)         0         \n",
      " )                                                               \n",
      "                                                                 \n",
      " conv2d_1 (Conv2D)           (None, 6, 6, 32)          9248      \n",
      "                                                                 \n",
      " dense (Dense)               (None, 6, 6, 32)          1056      \n",
      "                                                                 \n",
      " dense_1 (Dense)             (None, 6, 6, 32)          1056      \n",
      "                                                                 \n",
      " flatten (Flatten)           (None, 1152)              0         \n",
      "                                                                 \n",
      " dense_2 (Dense)             (None, 10)                11530     \n",
      "                                                                 \n",
      "=================================================================\n",
      "Total params: 23,210\n",
      "Trainable params: 23,210\n",
      "Non-trainable params: 0\n",
      "_________________________________________________________________\n"
     ]
    },
    {
     "name": "stderr",
     "output_type": "stream",
     "text": [
      "2021-11-09 12:06:10.922305: W tensorflow/core/framework/cpu_allocator_impl.cc:82] Allocation of 47040000 exceeds 10% of free system memory.\n"
     ]
    },
    {
     "name": "stdout",
     "output_type": "stream",
     "text": [
      "Epoch 1/30\n",
      "1875/1875 [==============================] - 92s 48ms/step - loss: 0.3118 - accuracy: 0.9297 - val_loss: 0.0840 - val_accuracy: 0.9739\n",
      "Epoch 2/30\n",
      "1875/1875 [==============================] - 92s 49ms/step - loss: 0.0706 - accuracy: 0.9781 - val_loss: 0.0643 - val_accuracy: 0.9809\n",
      "Epoch 3/30\n",
      "1875/1875 [==============================] - 98s 52ms/step - loss: 0.0575 - accuracy: 0.9818 - val_loss: 0.0559 - val_accuracy: 0.9820\n",
      "Epoch 4/30\n",
      "1875/1875 [==============================] - 103s 55ms/step - loss: 0.0480 - accuracy: 0.9850 - val_loss: 0.0601 - val_accuracy: 0.9815\n",
      "Epoch 5/30\n",
      "1875/1875 [==============================] - 83s 44ms/step - loss: 0.0451 - accuracy: 0.9854 - val_loss: 0.0702 - val_accuracy: 0.9797\n",
      "Epoch 6/30\n",
      "1875/1875 [==============================] - 74s 39ms/step - loss: 0.0363 - accuracy: 0.9885 - val_loss: 0.0620 - val_accuracy: 0.9817\n",
      "Epoch 7/30\n",
      "1875/1875 [==============================] - 69s 37ms/step - loss: 0.0347 - accuracy: 0.9891 - val_loss: 0.0522 - val_accuracy: 0.9848\n",
      "Epoch 8/30\n",
      "1875/1875 [==============================] - 71s 38ms/step - loss: 0.0293 - accuracy: 0.9909 - val_loss: 0.0550 - val_accuracy: 0.9849\n",
      "Epoch 9/30\n",
      "1875/1875 [==============================] - 67s 36ms/step - loss: 0.0273 - accuracy: 0.9910 - val_loss: 0.0496 - val_accuracy: 0.9861\n",
      "Epoch 10/30\n",
      "1875/1875 [==============================] - 69s 37ms/step - loss: 0.0253 - accuracy: 0.9920 - val_loss: 0.0663 - val_accuracy: 0.9829\n",
      "Epoch 11/30\n",
      "1875/1875 [==============================] - 71s 38ms/step - loss: 0.0250 - accuracy: 0.9923 - val_loss: 0.0573 - val_accuracy: 0.9840\n",
      "Epoch 12/30\n",
      "1875/1875 [==============================] - 64s 34ms/step - loss: 0.0224 - accuracy: 0.9932 - val_loss: 0.0544 - val_accuracy: 0.9863\n",
      "Epoch 13/30\n",
      "1875/1875 [==============================] - 44s 24ms/step - loss: 0.0207 - accuracy: 0.9933 - val_loss: 0.0624 - val_accuracy: 0.9841\n",
      "Epoch 14/30\n",
      "1875/1875 [==============================] - 43s 23ms/step - loss: 0.0202 - accuracy: 0.9937 - val_loss: 0.0694 - val_accuracy: 0.9841\n",
      "Epoch 15/30\n",
      "1875/1875 [==============================] - 43s 23ms/step - loss: 0.0207 - accuracy: 0.9933 - val_loss: 0.0629 - val_accuracy: 0.9851\n",
      "Epoch 16/30\n",
      "1875/1875 [==============================] - 43s 23ms/step - loss: 0.0196 - accuracy: 0.9941 - val_loss: 0.0607 - val_accuracy: 0.9860\n",
      "Epoch 17/30\n",
      "1875/1875 [==============================] - 42s 23ms/step - loss: 0.0177 - accuracy: 0.9942 - val_loss: 0.0703 - val_accuracy: 0.9852\n",
      "Epoch 18/30\n",
      "1875/1875 [==============================] - 43s 23ms/step - loss: 0.0165 - accuracy: 0.9951 - val_loss: 0.0737 - val_accuracy: 0.9857\n",
      "Epoch 19/30\n",
      "1874/1875 [============================>.] - ETA: 0s - loss: 0.0177 - accuracy: 0.9942"
     ]
    }
   ],
   "source": [
    "# Build the CNN model\n",
    "model = Sequential()\n",
    "# Add model layers\n",
    "model.add(Conv2D(32, kernel_size=(3,3), activation = 'relu', input_shape=(28,28,1)))\n",
    "model.add(MaxPool2D(pool_size=(3, 3), strides=None, padding='valid', data_format=None))\n",
    "model.add(Conv2D(32, kernel_size=3, activation='relu'))\n",
    "model.add(Dense(32,activation='relu'))\n",
    "model.add(Dense(32,activation='relu'))\n",
    "model.add(Flatten())\n",
    "model.add(Dense(10,activation='softmax'))\n",
    "\n",
    "\n",
    "#Compile the model\n",
    "model.compile(optimizer='adam', loss='categorical_crossentropy', metrics=['accuracy'])\n",
    "model.summary()\n",
    "\n",
    "#Train the model\n",
    "hist = model.fit(X_train,y_train_one_hot, validation_data=(X_test,y_test_one_hot), epochs=30, batch_size=32)\n",
    "score = model.evaluate(x_test, y_test_one_hot,verbose = 0)\n",
    "print(\"Loss: \", score[0])\n",
    "print(\"Test Accuracy: \", score[1])"
   ]
  },
  {
   "cell_type": "code",
   "execution_count": null,
   "id": "cae72603",
   "metadata": {},
   "outputs": [],
   "source": []
  }
 ],
 "metadata": {
  "kernelspec": {
   "display_name": "Python 3 (ipykernel)",
   "language": "python",
   "name": "python3"
  },
  "language_info": {
   "codemirror_mode": {
    "name": "ipython",
    "version": 3
   },
   "file_extension": ".py",
   "mimetype": "text/x-python",
   "name": "python",
   "nbconvert_exporter": "python",
   "pygments_lexer": "ipython3",
   "version": "3.9.7"
  }
 },
 "nbformat": 4,
 "nbformat_minor": 5
}
